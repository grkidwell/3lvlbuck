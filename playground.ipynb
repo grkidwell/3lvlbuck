{
 "cells": [
  {
   "cell_type": "code",
   "execution_count": 1,
   "id": "36c596d3-0da7-4b0c-9f50-d0766d514717",
   "metadata": {},
   "outputs": [],
   "source": [
    "import libs.mosfets as mos\n",
    "import libs.gatedrive as gatedrive"
   ]
  },
  {
   "cell_type": "code",
   "execution_count": 2,
   "id": "784da1db-5f4c-4382-a407-5b67dd2b3673",
   "metadata": {},
   "outputs": [
    {
     "data": {
      "text/plain": [
       "['BSZ070N08', 'AONR62818']"
      ]
     },
     "execution_count": 2,
     "metadata": {},
     "output_type": "execute_result"
    }
   ],
   "source": [
    "mos.fetlist"
   ]
  },
  {
   "cell_type": "code",
   "execution_count": 3,
   "id": "b6cad003-cab7-4d6c-9ef8-4014d578080d",
   "metadata": {},
   "outputs": [
    {
     "data": {
      "text/plain": [
       "{'package': 'DFN3x3',\n",
       " 'area': 1.156e-05,\n",
       " 'Vds_rating': 80.0,\n",
       " 'Qgs': 7.500000000000001e-09,\n",
       " 'Vgs': 10.0,\n",
       " 'Ciss_1V': 2.0999999999999998e-09,\n",
       " 'Coss_1V': 1.5e-09,\n",
       " 'Crss_1V': 4e-10,\n",
       " 'Vds2': 40.0,\n",
       " 'Ciss_Vds2': 1.9e-09,\n",
       " 'Coss_Vds2': 2.8e-10,\n",
       " 'Crss_Vds2': 1.2e-11,\n",
       " 'Qrr': 2.7e-08,\n",
       " 'Id_qrr': 20.0,\n",
       " 'Vds_qrr': 40.0,\n",
       " 'Qgd': 4e-09,\n",
       " 'Vds_qgd': 40.0,\n",
       " 'Gm': 0.052000000000000005,\n",
       " 'Rdson': 0.005900000000000001,\n",
       " 'Rg': 1.3,\n",
       " 'Lsource': 5e-10,\n",
       " 'Ldrain': 5e-10,\n",
       " 'Vbd': 0.85,\n",
       " 'Id_vbd': 20.0}"
      ]
     },
     "execution_count": 3,
     "metadata": {},
     "output_type": "execute_result"
    }
   ],
   "source": [
    "mos.scaledparams[mos.fetlist[0]]"
   ]
  },
  {
   "cell_type": "code",
   "execution_count": 4,
   "id": "41519753-dc6b-4b1e-a178-2ac26c56ecc5",
   "metadata": {},
   "outputs": [
    {
     "data": {
      "text/plain": [
       "{'hs': {'voltage': 10, 'rg': 2},\n",
       " 'ls': {'voltage': 10, 'rg': 1},\n",
       " 'deadtime': {'on': 1.5e-08, 'off': 1.5e-08}}"
      ]
     },
     "execution_count": 4,
     "metadata": {},
     "output_type": "execute_result"
    }
   ],
   "source": [
    "gatedrive.driver_10V"
   ]
  },
  {
   "cell_type": "code",
   "execution_count": null,
   "id": "b9fd25d4-04ae-4124-b771-6d37ebac8e4e",
   "metadata": {},
   "outputs": [],
   "source": []
  }
 ],
 "metadata": {
  "kernelspec": {
   "display_name": "Python 3",
   "language": "python",
   "name": "python3"
  },
  "language_info": {
   "codemirror_mode": {
    "name": "ipython",
    "version": 3
   },
   "file_extension": ".py",
   "mimetype": "text/x-python",
   "name": "python",
   "nbconvert_exporter": "python",
   "pygments_lexer": "ipython3",
   "version": "3.10.4"
  }
 },
 "nbformat": 4,
 "nbformat_minor": 5
}
